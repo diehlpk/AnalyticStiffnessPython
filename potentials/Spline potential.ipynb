{
 "cells": [
  {
   "cell_type": "markdown",
   "metadata": {},
   "source": [
    "# Spline-based potential"
   ]
  },
  {
   "cell_type": "code",
   "execution_count": 1,
   "metadata": {},
   "outputs": [],
   "source": [
    "import numpy as np\n",
    "import matplotlib.pyplot as plt"
   ]
  },
  {
   "cell_type": "markdown",
   "metadata": {},
   "source": [
    "$ h(r) = a_1 x^3 + a_2 x^2 + a_3 x + a_0 $\n",
    "\n",
    "such that \n",
    "\n",
    "* $h(0)=0$\n",
    "* $h(r_+) = h_\\infty$\n",
    "* $h'(0) = h'_0$ \n",
    "* $h''(x) < 0$\n",
    "* $h''(r_+) = 0 $\n",
    "\n",
    "doing some calculations and assuming $a_0=0$ results in\n",
    "\n",
    "* $a_1 = \\frac{-1}{r^3_+}(2h_\\infty + r_+ h'_0)$\n",
    "* $a_2 = \\frac{1}{r_+} \\left( \\frac{3}{r_+}h_\\infty - 2 h'_0\\right)$\n",
    "* $a_3 = h'_0$"
   ]
  },
  {
   "cell_type": "code",
   "execution_count": 2,
   "metadata": {},
   "outputs": [],
   "source": [
    "h0=0.5\n",
    "hinf=1e7\n",
    "rbar=0.25"
   ]
  },
  {
   "cell_type": "code",
   "execution_count": 3,
   "metadata": {},
   "outputs": [],
   "source": [
    "a1 = -1 / rbar / rbar / rbar * (2*hinf + rbar * h0)\n",
    "a2 = 1 / rbar * ( (3/rbar) * hinf - 2 * h0 )\n",
    "a3 = h0"
   ]
  },
  {
   "cell_type": "code",
   "execution_count": 4,
   "metadata": {},
   "outputs": [],
   "source": [
    "def h(r):\n",
    "    return a1 * r * r * r + a2 * r * r + a3 *r"
   ]
  },
  {
   "cell_type": "code",
   "execution_count": 5,
   "metadata": {},
   "outputs": [],
   "source": [
    "x = np.linspace(0,rbar)"
   ]
  },
  {
   "cell_type": "code",
   "execution_count": 6,
   "metadata": {},
   "outputs": [
    {
     "data": {
      "text/plain": [
       "<matplotlib.legend.Legend at 0x7f4273d0b160>"
      ]
     },
     "execution_count": 6,
     "metadata": {},
     "output_type": "execute_result"
    },
    {
     "data": {
      "image/png": "[encoded data removed]",
      "text/plain": [
       "<Figure size 432x288 with 1 Axes>"
      ]
     },
     "metadata": {
      "needs_background": "light"
     },
     "output_type": "display_data"
    }
   ],
   "source": [
    "plt.plot(x,h(x),label=r\"$h(r)$\")\n",
    "plt.grid()\n",
    "plt.xlabel(r\"r\")\n",
    "plt.axvline(x=rbar,label=r\"$r_+$\",c=\"black\")\n",
    "plt.hlines(hinf, 1, 2, colors=\"blue\")\n",
    "plt.legend()"
   ]
  },
  {
   "cell_type": "code",
   "execution_count": 7,
   "metadata": {},
   "outputs": [],
   "source": [
    "def hp(r):\n",
    "    return 3 *a1 * r * r + 2 * a2 * r + a3"
   ]
  },
  {
   "cell_type": "code",
   "execution_count": 8,
   "metadata": {},
   "outputs": [
    {
     "data": {
      "text/plain": [
       "<matplotlib.collections.LineCollection at 0x7f426abb38b0>"
      ]
     },
     "execution_count": 8,
     "metadata": {},
     "output_type": "execute_result"
    },
    {
     "data": {
      "image/png": "[encoded data removed]",
      "text/plain": [
       "<Figure size 432x288 with 1 Axes>"
      ]
     },
     "metadata": {
      "needs_background": "light"
     },
     "output_type": "display_data"
    }
   ],
   "source": [
    "x = np.linspace(0,rbar)\n",
    "plt.plot(x,hp(x))\n",
    "plt.grid()\n",
    "plt.ylabel(r\"h'(r)\")\n",
    "plt.xlabel(r\"r\")\n",
    "plt.axvline(x=rbar,label=r\"$r_+$\",c=\"black\")\n",
    "plt.hlines(0, 1, 2, colors=\"blue\")"
   ]
  },
  {
   "cell_type": "code",
   "execution_count": 9,
   "metadata": {},
   "outputs": [],
   "source": [
    "def hpp(r):\n",
    "    return 6*a1*r+2*a2"
   ]
  },
  {
   "cell_type": "code",
   "execution_count": 10,
   "metadata": {},
   "outputs": [
    {
     "data": {
      "text/plain": [
       "<matplotlib.collections.LineCollection at 0x7f426ac46fd0>"
      ]
     },
     "execution_count": 10,
     "metadata": {},
     "output_type": "execute_result"
    },
    {
     "data": {
      "image/png": "[encoded data removed]",
      "text/plain": [
       "<Figure size 432x288 with 1 Axes>"
      ]
     },
     "metadata": {
      "needs_background": "light"
     },
     "output_type": "display_data"
    }
   ],
   "source": [
    "x = np.linspace(0,rbar)\n",
    "plt.plot(x,hpp(x))\n",
    "plt.grid()\n",
    "plt.ylabel(r\"h''(r)\")\n",
    "plt.xlabel(r\"r\")\n",
    "plt.axvline(x=rbar,label=r\"$r_+$\",c=\"black\")\n",
    "plt.hlines(hpp(1), 1, 2, colors=\"blue\")"
   ]
  },
  {
   "cell_type": "code",
   "execution_count": null,
   "metadata": {},
   "outputs": [],
   "source": []
  }
 ],
 "metadata": {
  "kernelspec": {
   "display_name": "Python 3",
   "language": "python",
   "name": "python3"
  },
  "language_info": {
   "codemirror_mode": {
    "name": "ipython",
    "version": 3
   },
   "file_extension": ".py",
   "mimetype": "text/x-python",
   "name": "python",
   "nbconvert_exporter": "python",
   "pygments_lexer": "ipython3",
   "version": "3.9.5"
  }
 },
 "nbformat": 4,
 "nbformat_minor": 4
}
